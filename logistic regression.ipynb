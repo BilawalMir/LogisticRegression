{
 "cells": [
  {
   "cell_type": "code",
   "execution_count": 1,
   "id": "78be98a6",
   "metadata": {},
   "outputs": [],
   "source": [
    "import numpy as np\n",
    "import pandas as pd\n",
    "import matplotlib.pyplot as plt\n",
    "%matplotlib inline\n",
    "import sklearn\n",
    "import seaborn as sns\n",
    "import warnings\n",
    "warnings.filterwarnings('ignore')\n",
    "plt.rcParams[\"figure.figsize\"] = [10,5]\n",
    "# Ignore warnings\n",
    "\n",
    "import warnings\n",
    "# Set the warning filter to ignore FutureWarning\n",
    "warnings.simplefilter(action = \"ignore\", category = FutureWarning)"
   ]
  },
  {
   "cell_type": "code",
   "execution_count": 2,
   "id": "3fb1b5e6",
   "metadata": {},
   "outputs": [],
   "source": [
    "full_data = pd.read_csv('C:\\\\Users\\\\Ali Traders\\\\Downloads\\\\titanic_dataset.csv')"
   ]
  },
  {
   "cell_type": "code",
   "execution_count": 3,
   "id": "3cd78e40",
   "metadata": {},
   "outputs": [
    {
     "data": {
      "text/plain": [
       "(891, 12)"
      ]
     },
     "execution_count": 3,
     "metadata": {},
     "output_type": "execute_result"
    }
   ],
   "source": [
    "full_data.shape"
   ]
  },
  {
   "cell_type": "code",
   "execution_count": 5,
   "id": "33c71daf",
   "metadata": {},
   "outputs": [
    {
     "data": {
      "text/html": [
       "<div>\n",
       "<style scoped>\n",
       "    .dataframe tbody tr th:only-of-type {\n",
       "        vertical-align: middle;\n",
       "    }\n",
       "\n",
       "    .dataframe tbody tr th {\n",
       "        vertical-align: top;\n",
       "    }\n",
       "\n",
       "    .dataframe thead th {\n",
       "        text-align: right;\n",
       "    }\n",
       "</style>\n",
       "<table border=\"1\" class=\"dataframe\">\n",
       "  <thead>\n",
       "    <tr style=\"text-align: right;\">\n",
       "      <th></th>\n",
       "      <th>PassengerId</th>\n",
       "      <th>Survived</th>\n",
       "      <th>Pclass</th>\n",
       "      <th>Name</th>\n",
       "      <th>Sex</th>\n",
       "      <th>Age</th>\n",
       "      <th>SibSp</th>\n",
       "      <th>Parch</th>\n",
       "      <th>Ticket</th>\n",
       "      <th>Fare</th>\n",
       "      <th>Cabin</th>\n",
       "      <th>Embarked</th>\n",
       "    </tr>\n",
       "  </thead>\n",
       "  <tbody>\n",
       "    <tr>\n",
       "      <th>0</th>\n",
       "      <td>1</td>\n",
       "      <td>0</td>\n",
       "      <td>3</td>\n",
       "      <td>Braund, Mr. Owen Harris</td>\n",
       "      <td>male</td>\n",
       "      <td>22.0</td>\n",
       "      <td>1</td>\n",
       "      <td>0</td>\n",
       "      <td>A/5 21171</td>\n",
       "      <td>7.2500</td>\n",
       "      <td>NaN</td>\n",
       "      <td>S</td>\n",
       "    </tr>\n",
       "    <tr>\n",
       "      <th>1</th>\n",
       "      <td>2</td>\n",
       "      <td>1</td>\n",
       "      <td>1</td>\n",
       "      <td>Cumings, Mrs. John Bradley (Florence Briggs Th...</td>\n",
       "      <td>female</td>\n",
       "      <td>38.0</td>\n",
       "      <td>1</td>\n",
       "      <td>0</td>\n",
       "      <td>PC 17599</td>\n",
       "      <td>71.2833</td>\n",
       "      <td>C85</td>\n",
       "      <td>C</td>\n",
       "    </tr>\n",
       "    <tr>\n",
       "      <th>2</th>\n",
       "      <td>3</td>\n",
       "      <td>1</td>\n",
       "      <td>3</td>\n",
       "      <td>Heikkinen, Miss. Laina</td>\n",
       "      <td>female</td>\n",
       "      <td>26.0</td>\n",
       "      <td>0</td>\n",
       "      <td>0</td>\n",
       "      <td>STON/O2. 3101282</td>\n",
       "      <td>7.9250</td>\n",
       "      <td>NaN</td>\n",
       "      <td>S</td>\n",
       "    </tr>\n",
       "    <tr>\n",
       "      <th>3</th>\n",
       "      <td>4</td>\n",
       "      <td>1</td>\n",
       "      <td>1</td>\n",
       "      <td>Futrelle, Mrs. Jacques Heath (Lily May Peel)</td>\n",
       "      <td>female</td>\n",
       "      <td>35.0</td>\n",
       "      <td>1</td>\n",
       "      <td>0</td>\n",
       "      <td>113803</td>\n",
       "      <td>53.1000</td>\n",
       "      <td>C123</td>\n",
       "      <td>S</td>\n",
       "    </tr>\n",
       "    <tr>\n",
       "      <th>4</th>\n",
       "      <td>5</td>\n",
       "      <td>0</td>\n",
       "      <td>3</td>\n",
       "      <td>Allen, Mr. William Henry</td>\n",
       "      <td>male</td>\n",
       "      <td>35.0</td>\n",
       "      <td>0</td>\n",
       "      <td>0</td>\n",
       "      <td>373450</td>\n",
       "      <td>8.0500</td>\n",
       "      <td>NaN</td>\n",
       "      <td>S</td>\n",
       "    </tr>\n",
       "  </tbody>\n",
       "</table>\n",
       "</div>"
      ],
      "text/plain": [
       "   PassengerId  Survived  Pclass  \\\n",
       "0            1         0       3   \n",
       "1            2         1       1   \n",
       "2            3         1       3   \n",
       "3            4         1       1   \n",
       "4            5         0       3   \n",
       "\n",
       "                                                Name     Sex   Age  SibSp  \\\n",
       "0                            Braund, Mr. Owen Harris    male  22.0      1   \n",
       "1  Cumings, Mrs. John Bradley (Florence Briggs Th...  female  38.0      1   \n",
       "2                             Heikkinen, Miss. Laina  female  26.0      0   \n",
       "3       Futrelle, Mrs. Jacques Heath (Lily May Peel)  female  35.0      1   \n",
       "4                           Allen, Mr. William Henry    male  35.0      0   \n",
       "\n",
       "   Parch            Ticket     Fare Cabin Embarked  \n",
       "0      0         A/5 21171   7.2500   NaN        S  \n",
       "1      0          PC 17599  71.2833   C85        C  \n",
       "2      0  STON/O2. 3101282   7.9250   NaN        S  \n",
       "3      0            113803  53.1000  C123        S  \n",
       "4      0            373450   8.0500   NaN        S  "
      ]
     },
     "execution_count": 5,
     "metadata": {},
     "output_type": "execute_result"
    }
   ],
   "source": [
    "full_data.head(5)"
   ]
  },
  {
   "cell_type": "code",
   "execution_count": 6,
   "id": "22d9f627",
   "metadata": {},
   "outputs": [
    {
     "name": "stdout",
     "output_type": "stream",
     "text": [
      "<class 'pandas.core.frame.DataFrame'>\n",
      "RangeIndex: 891 entries, 0 to 890\n",
      "Data columns (total 12 columns):\n",
      " #   Column       Non-Null Count  Dtype  \n",
      "---  ------       --------------  -----  \n",
      " 0   PassengerId  891 non-null    int64  \n",
      " 1   Survived     891 non-null    int64  \n",
      " 2   Pclass       891 non-null    int64  \n",
      " 3   Name         891 non-null    object \n",
      " 4   Sex          891 non-null    object \n",
      " 5   Age          714 non-null    float64\n",
      " 6   SibSp        891 non-null    int64  \n",
      " 7   Parch        891 non-null    int64  \n",
      " 8   Ticket       891 non-null    object \n",
      " 9   Fare         891 non-null    float64\n",
      " 10  Cabin        204 non-null    object \n",
      " 11  Embarked     889 non-null    object \n",
      "dtypes: float64(2), int64(5), object(5)\n",
      "memory usage: 83.7+ KB\n"
     ]
    }
   ],
   "source": [
    "full_data.info()"
   ]
  },
  {
   "cell_type": "code",
   "execution_count": 7,
   "id": "756571dd",
   "metadata": {},
   "outputs": [],
   "source": [
    "full_data.drop('Ticket',axis = 1, inplace = True)"
   ]
  },
  {
   "cell_type": "code",
   "execution_count": 8,
   "id": "0ba456f7",
   "metadata": {},
   "outputs": [
    {
     "data": {
      "text/plain": [
       "(891, 11)"
      ]
     },
     "execution_count": 8,
     "metadata": {},
     "output_type": "execute_result"
    }
   ],
   "source": [
    "full_data.shape"
   ]
  },
  {
   "cell_type": "code",
   "execution_count": 13,
   "id": "a9c757f3",
   "metadata": {},
   "outputs": [],
   "source": [
    "full_data.drop('Cabin' ,axis = 1,inplace = True)"
   ]
  },
  {
   "cell_type": "code",
   "execution_count": 14,
   "id": "de810f2f",
   "metadata": {},
   "outputs": [],
   "source": [
    "full_data.drop('Name',axis = 1, inplace = True)"
   ]
  },
  {
   "cell_type": "code",
   "execution_count": 15,
   "id": "b0eb3e9d",
   "metadata": {},
   "outputs": [
    {
     "data": {
      "text/html": [
       "<div>\n",
       "<style scoped>\n",
       "    .dataframe tbody tr th:only-of-type {\n",
       "        vertical-align: middle;\n",
       "    }\n",
       "\n",
       "    .dataframe tbody tr th {\n",
       "        vertical-align: top;\n",
       "    }\n",
       "\n",
       "    .dataframe thead th {\n",
       "        text-align: right;\n",
       "    }\n",
       "</style>\n",
       "<table border=\"1\" class=\"dataframe\">\n",
       "  <thead>\n",
       "    <tr style=\"text-align: right;\">\n",
       "      <th></th>\n",
       "      <th>PassengerId</th>\n",
       "      <th>Survived</th>\n",
       "      <th>Pclass</th>\n",
       "      <th>Sex</th>\n",
       "      <th>Age</th>\n",
       "      <th>SibSp</th>\n",
       "      <th>Parch</th>\n",
       "      <th>Fare</th>\n",
       "      <th>Embarked</th>\n",
       "    </tr>\n",
       "  </thead>\n",
       "  <tbody>\n",
       "    <tr>\n",
       "      <th>0</th>\n",
       "      <td>1</td>\n",
       "      <td>0</td>\n",
       "      <td>3</td>\n",
       "      <td>male</td>\n",
       "      <td>22.0</td>\n",
       "      <td>1</td>\n",
       "      <td>0</td>\n",
       "      <td>7.2500</td>\n",
       "      <td>S</td>\n",
       "    </tr>\n",
       "    <tr>\n",
       "      <th>1</th>\n",
       "      <td>2</td>\n",
       "      <td>1</td>\n",
       "      <td>1</td>\n",
       "      <td>female</td>\n",
       "      <td>38.0</td>\n",
       "      <td>1</td>\n",
       "      <td>0</td>\n",
       "      <td>71.2833</td>\n",
       "      <td>C</td>\n",
       "    </tr>\n",
       "    <tr>\n",
       "      <th>2</th>\n",
       "      <td>3</td>\n",
       "      <td>1</td>\n",
       "      <td>3</td>\n",
       "      <td>female</td>\n",
       "      <td>26.0</td>\n",
       "      <td>0</td>\n",
       "      <td>0</td>\n",
       "      <td>7.9250</td>\n",
       "      <td>S</td>\n",
       "    </tr>\n",
       "    <tr>\n",
       "      <th>3</th>\n",
       "      <td>4</td>\n",
       "      <td>1</td>\n",
       "      <td>1</td>\n",
       "      <td>female</td>\n",
       "      <td>35.0</td>\n",
       "      <td>1</td>\n",
       "      <td>0</td>\n",
       "      <td>53.1000</td>\n",
       "      <td>S</td>\n",
       "    </tr>\n",
       "    <tr>\n",
       "      <th>4</th>\n",
       "      <td>5</td>\n",
       "      <td>0</td>\n",
       "      <td>3</td>\n",
       "      <td>male</td>\n",
       "      <td>35.0</td>\n",
       "      <td>0</td>\n",
       "      <td>0</td>\n",
       "      <td>8.0500</td>\n",
       "      <td>S</td>\n",
       "    </tr>\n",
       "  </tbody>\n",
       "</table>\n",
       "</div>"
      ],
      "text/plain": [
       "   PassengerId  Survived  Pclass     Sex   Age  SibSp  Parch     Fare Embarked\n",
       "0            1         0       3    male  22.0      1      0   7.2500        S\n",
       "1            2         1       1  female  38.0      1      0  71.2833        C\n",
       "2            3         1       3  female  26.0      0      0   7.9250        S\n",
       "3            4         1       1  female  35.0      1      0  53.1000        S\n",
       "4            5         0       3    male  35.0      0      0   8.0500        S"
      ]
     },
     "execution_count": 15,
     "metadata": {},
     "output_type": "execute_result"
    }
   ],
   "source": [
    "full_data.head(5)"
   ]
  },
  {
   "cell_type": "code",
   "execution_count": 18,
   "id": "ae6bf043",
   "metadata": {},
   "outputs": [
    {
     "data": {
      "image/png": "[encoded data removed]",
      "text/plain": [
       "<Figure size 1000x500 with 1 Axes>"
      ]
     },
     "metadata": {},
     "output_type": "display_data"
    }
   ],
   "source": [
    "sns.heatmap(full_data.isnull(),yticklabels = False, cbar = False,cmap = 'tab20c_r')\n",
    "plt.title(\"Missing Data:Training Set\")\n",
    "plt.show()"
   ]
  },
  {
   "cell_type": "code",
   "execution_count": 20,
   "id": "25dd2063",
   "metadata": {},
   "outputs": [
    {
     "data": {
      "image/png": "[encoded data removed]",
      "text/plain": [
       "<Figure size 1000x700 with 1 Axes>"
      ]
     },
     "metadata": {},
     "output_type": "display_data"
    }
   ],
   "source": [
    "plt.figure(figsize = (10,7))\n",
    "sns.boxplot(x='Pclass',y = 'Age' , data = full_data , palette= 'GnBu_d')\n",
    "plt.title('Age by Passenger Class')\n",
    "plt.show()"
   ]
  },
  {
   "cell_type": "code",
   "execution_count": 23,
   "id": "91d38fa6",
   "metadata": {},
   "outputs": [],
   "source": [
    "def impute_age(cols):\n",
    "    Age = cols[0]\n",
    "    Pclass = cols[1]\n",
    "    if pd.isnull(Age):\n",
    "        if Pclass ==1:\n",
    "            return 37\n",
    "        elif Pclass == 2:\n",
    "            return 29\n",
    "        else:\n",
    "            return 24\n",
    "    else:\n",
    "        return Age\n",
    "full_data['Age'] = full_data[['Age','Pclass']].apply(impute_age, axis = 1)"
   ]
  },
  {
   "cell_type": "code",
   "execution_count": 24,
   "id": "a4e68ca8",
   "metadata": {},
   "outputs": [
    {
     "data": {
      "image/png": "[encoded data removed]",
      "text/plain": [
       "<Figure size 1000x500 with 1 Axes>"
      ]
     },
     "metadata": {},
     "output_type": "display_data"
    }
   ],
   "source": [
    "sns.heatmap(full_data.isnull(),yticklabels = False, cbar = False,cmap = 'tab20c_r').set_title(\"Missing data \")\n",
    "plt.show()"
   ]
  },
  {
   "cell_type": "code",
   "execution_count": 25,
   "id": "0edafa79",
   "metadata": {},
   "outputs": [],
   "source": [
    "full_data.dropna(inplace = True)"
   ]
  },
  {
   "cell_type": "code",
   "execution_count": 26,
   "id": "9f500c6f",
   "metadata": {},
   "outputs": [
    {
     "data": {
      "image/png": "[encoded data removed]",
      "text/plain": [
       "<Figure size 1000x500 with 1 Axes>"
      ]
     },
     "metadata": {},
     "output_type": "display_data"
    }
   ],
   "source": [
    "sns.heatmap(full_data.isnull(),yticklabels = False, cbar = False,cmap = 'tab20c_r').set_title(\"Missing data \")\n",
    "plt.show()"
   ]
  },
  {
   "cell_type": "code",
   "execution_count": 27,
   "id": "7a37a2fe",
   "metadata": {},
   "outputs": [
    {
     "name": "stdout",
     "output_type": "stream",
     "text": [
      "<class 'pandas.core.frame.DataFrame'>\n",
      "Int64Index: 889 entries, 0 to 890\n",
      "Data columns (total 9 columns):\n",
      " #   Column       Non-Null Count  Dtype  \n",
      "---  ------       --------------  -----  \n",
      " 0   PassengerId  889 non-null    int64  \n",
      " 1   Survived     889 non-null    int64  \n",
      " 2   Pclass       889 non-null    int64  \n",
      " 3   Sex          889 non-null    object \n",
      " 4   Age          889 non-null    float64\n",
      " 5   SibSp        889 non-null    int64  \n",
      " 6   Parch        889 non-null    int64  \n",
      " 7   Fare         889 non-null    float64\n",
      " 8   Embarked     889 non-null    object \n",
      "dtypes: float64(2), int64(5), object(2)\n",
      "memory usage: 69.5+ KB\n"
     ]
    }
   ],
   "source": [
    "full_data.info()"
   ]
  },
  {
   "cell_type": "code",
   "execution_count": 29,
   "id": "08185b7b",
   "metadata": {},
   "outputs": [],
   "source": [
    "objcat = ['Sex','Embarked']\n",
    "\n",
    "for cols in objcat:\n",
    "    full_data[cols] = full_data[cols].astype('category')"
   ]
  },
  {
   "cell_type": "code",
   "execution_count": 30,
   "id": "2e3eacd9",
   "metadata": {},
   "outputs": [
    {
     "name": "stdout",
     "output_type": "stream",
     "text": [
      "<class 'pandas.core.frame.DataFrame'>\n",
      "Int64Index: 889 entries, 0 to 890\n",
      "Data columns (total 9 columns):\n",
      " #   Column       Non-Null Count  Dtype   \n",
      "---  ------       --------------  -----   \n",
      " 0   PassengerId  889 non-null    int64   \n",
      " 1   Survived     889 non-null    int64   \n",
      " 2   Pclass       889 non-null    int64   \n",
      " 3   Sex          889 non-null    category\n",
      " 4   Age          889 non-null    float64 \n",
      " 5   SibSp        889 non-null    int64   \n",
      " 6   Parch        889 non-null    int64   \n",
      " 7   Fare         889 non-null    float64 \n",
      " 8   Embarked     889 non-null    category\n",
      "dtypes: category(2), float64(2), int64(5)\n",
      "memory usage: 57.5 KB\n"
     ]
    }
   ],
   "source": [
    "full_data.info()"
   ]
  },
  {
   "cell_type": "code",
   "execution_count": 32,
   "id": "426fe2b0",
   "metadata": {},
   "outputs": [],
   "source": [
    "full_data.drop('PassengerId', axis = 1, inplace = True)"
   ]
  },
  {
   "cell_type": "code",
   "execution_count": 36,
   "id": "f080f75d",
   "metadata": {},
   "outputs": [
    {
     "data": {
      "text/plain": [
       "Index(['Sex', 'Embarked'], dtype='object')"
      ]
     },
     "execution_count": 36,
     "metadata": {},
     "output_type": "execute_result"
    }
   ],
   "source": [
    "full_data.select_dtypes(['category']).columns"
   ]
  },
  {
   "cell_type": "code",
   "execution_count": 37,
   "id": "db7b0153",
   "metadata": {},
   "outputs": [
    {
     "data": {
      "text/plain": [
       "Index(['Survived', 'Pclass', 'SibSp', 'Parch'], dtype='object')"
      ]
     },
     "execution_count": 37,
     "metadata": {},
     "output_type": "execute_result"
    }
   ],
   "source": [
    "full_data.select_dtypes('int').columns"
   ]
  },
  {
   "cell_type": "code",
   "execution_count": 38,
   "id": "310ae3f5",
   "metadata": {},
   "outputs": [],
   "source": [
    "Sex = pd.get_dummies(full_data['Sex'],drop_first = True)"
   ]
  },
  {
   "cell_type": "code",
   "execution_count": 39,
   "id": "7faad983",
   "metadata": {},
   "outputs": [
    {
     "data": {
      "text/html": [
       "<div>\n",
       "<style scoped>\n",
       "    .dataframe tbody tr th:only-of-type {\n",
       "        vertical-align: middle;\n",
       "    }\n",
       "\n",
       "    .dataframe tbody tr th {\n",
       "        vertical-align: top;\n",
       "    }\n",
       "\n",
       "    .dataframe thead th {\n",
       "        text-align: right;\n",
       "    }\n",
       "</style>\n",
       "<table border=\"1\" class=\"dataframe\">\n",
       "  <thead>\n",
       "    <tr style=\"text-align: right;\">\n",
       "      <th></th>\n",
       "      <th>Survived</th>\n",
       "      <th>Pclass</th>\n",
       "      <th>Sex</th>\n",
       "      <th>Age</th>\n",
       "      <th>SibSp</th>\n",
       "      <th>Parch</th>\n",
       "      <th>Fare</th>\n",
       "      <th>Embarked</th>\n",
       "    </tr>\n",
       "  </thead>\n",
       "  <tbody>\n",
       "    <tr>\n",
       "      <th>0</th>\n",
       "      <td>0</td>\n",
       "      <td>3</td>\n",
       "      <td>male</td>\n",
       "      <td>22.0</td>\n",
       "      <td>1</td>\n",
       "      <td>0</td>\n",
       "      <td>7.2500</td>\n",
       "      <td>S</td>\n",
       "    </tr>\n",
       "    <tr>\n",
       "      <th>1</th>\n",
       "      <td>1</td>\n",
       "      <td>1</td>\n",
       "      <td>female</td>\n",
       "      <td>38.0</td>\n",
       "      <td>1</td>\n",
       "      <td>0</td>\n",
       "      <td>71.2833</td>\n",
       "      <td>C</td>\n",
       "    </tr>\n",
       "    <tr>\n",
       "      <th>2</th>\n",
       "      <td>1</td>\n",
       "      <td>3</td>\n",
       "      <td>female</td>\n",
       "      <td>26.0</td>\n",
       "      <td>0</td>\n",
       "      <td>0</td>\n",
       "      <td>7.9250</td>\n",
       "      <td>S</td>\n",
       "    </tr>\n",
       "    <tr>\n",
       "      <th>3</th>\n",
       "      <td>1</td>\n",
       "      <td>1</td>\n",
       "      <td>female</td>\n",
       "      <td>35.0</td>\n",
       "      <td>1</td>\n",
       "      <td>0</td>\n",
       "      <td>53.1000</td>\n",
       "      <td>S</td>\n",
       "    </tr>\n",
       "    <tr>\n",
       "      <th>4</th>\n",
       "      <td>0</td>\n",
       "      <td>3</td>\n",
       "      <td>male</td>\n",
       "      <td>35.0</td>\n",
       "      <td>0</td>\n",
       "      <td>0</td>\n",
       "      <td>8.0500</td>\n",
       "      <td>S</td>\n",
       "    </tr>\n",
       "  </tbody>\n",
       "</table>\n",
       "</div>"
      ],
      "text/plain": [
       "   Survived  Pclass     Sex   Age  SibSp  Parch     Fare Embarked\n",
       "0         0       3    male  22.0      1      0   7.2500        S\n",
       "1         1       1  female  38.0      1      0  71.2833        C\n",
       "2         1       3  female  26.0      0      0   7.9250        S\n",
       "3         1       1  female  35.0      1      0  53.1000        S\n",
       "4         0       3    male  35.0      0      0   8.0500        S"
      ]
     },
     "execution_count": 39,
     "metadata": {},
     "output_type": "execute_result"
    }
   ],
   "source": [
    "full_data.head(5)"
   ]
  },
  {
   "cell_type": "code",
   "execution_count": 40,
   "id": "dad9d32e",
   "metadata": {},
   "outputs": [],
   "source": [
    "Embarked = pd.get_dummies(full_data['Embarked'],drop_first = True)"
   ]
  },
  {
   "cell_type": "code",
   "execution_count": 46,
   "id": "2e6f35dc",
   "metadata": {},
   "outputs": [
    {
     "data": {
      "text/html": [
       "<div>\n",
       "<style scoped>\n",
       "    .dataframe tbody tr th:only-of-type {\n",
       "        vertical-align: middle;\n",
       "    }\n",
       "\n",
       "    .dataframe tbody tr th {\n",
       "        vertical-align: top;\n",
       "    }\n",
       "\n",
       "    .dataframe thead th {\n",
       "        text-align: right;\n",
       "    }\n",
       "</style>\n",
       "<table border=\"1\" class=\"dataframe\">\n",
       "  <thead>\n",
       "    <tr style=\"text-align: right;\">\n",
       "      <th></th>\n",
       "      <th>Survived</th>\n",
       "      <th>Pclass</th>\n",
       "      <th>Age</th>\n",
       "      <th>SibSp</th>\n",
       "      <th>Parch</th>\n",
       "      <th>Fare</th>\n",
       "      <th>male</th>\n",
       "      <th>Q</th>\n",
       "      <th>S</th>\n",
       "      <th>male</th>\n",
       "      <th>Q</th>\n",
       "      <th>S</th>\n",
       "    </tr>\n",
       "  </thead>\n",
       "  <tbody>\n",
       "    <tr>\n",
       "      <th>0</th>\n",
       "      <td>0</td>\n",
       "      <td>3</td>\n",
       "      <td>22.0</td>\n",
       "      <td>1</td>\n",
       "      <td>0</td>\n",
       "      <td>7.2500</td>\n",
       "      <td>1</td>\n",
       "      <td>0</td>\n",
       "      <td>1</td>\n",
       "      <td>1</td>\n",
       "      <td>0</td>\n",
       "      <td>1</td>\n",
       "    </tr>\n",
       "    <tr>\n",
       "      <th>1</th>\n",
       "      <td>1</td>\n",
       "      <td>1</td>\n",
       "      <td>38.0</td>\n",
       "      <td>1</td>\n",
       "      <td>0</td>\n",
       "      <td>71.2833</td>\n",
       "      <td>0</td>\n",
       "      <td>0</td>\n",
       "      <td>0</td>\n",
       "      <td>0</td>\n",
       "      <td>0</td>\n",
       "      <td>0</td>\n",
       "    </tr>\n",
       "    <tr>\n",
       "      <th>2</th>\n",
       "      <td>1</td>\n",
       "      <td>3</td>\n",
       "      <td>26.0</td>\n",
       "      <td>0</td>\n",
       "      <td>0</td>\n",
       "      <td>7.9250</td>\n",
       "      <td>0</td>\n",
       "      <td>0</td>\n",
       "      <td>1</td>\n",
       "      <td>0</td>\n",
       "      <td>0</td>\n",
       "      <td>1</td>\n",
       "    </tr>\n",
       "    <tr>\n",
       "      <th>3</th>\n",
       "      <td>1</td>\n",
       "      <td>1</td>\n",
       "      <td>35.0</td>\n",
       "      <td>1</td>\n",
       "      <td>0</td>\n",
       "      <td>53.1000</td>\n",
       "      <td>0</td>\n",
       "      <td>0</td>\n",
       "      <td>1</td>\n",
       "      <td>0</td>\n",
       "      <td>0</td>\n",
       "      <td>1</td>\n",
       "    </tr>\n",
       "    <tr>\n",
       "      <th>4</th>\n",
       "      <td>0</td>\n",
       "      <td>3</td>\n",
       "      <td>35.0</td>\n",
       "      <td>0</td>\n",
       "      <td>0</td>\n",
       "      <td>8.0500</td>\n",
       "      <td>1</td>\n",
       "      <td>0</td>\n",
       "      <td>1</td>\n",
       "      <td>1</td>\n",
       "      <td>0</td>\n",
       "      <td>1</td>\n",
       "    </tr>\n",
       "  </tbody>\n",
       "</table>\n",
       "</div>"
      ],
      "text/plain": [
       "   Survived  Pclass   Age  SibSp  Parch     Fare  male  Q  S  male  Q  S\n",
       "0         0       3  22.0      1      0   7.2500     1  0  1     1  0  1\n",
       "1         1       1  38.0      1      0  71.2833     0  0  0     0  0  0\n",
       "2         1       3  26.0      0      0   7.9250     0  0  1     0  0  1\n",
       "3         1       1  35.0      1      0  53.1000     0  0  1     0  0  1\n",
       "4         0       3  35.0      0      0   8.0500     1  0  1     1  0  1"
      ]
     },
     "execution_count": 46,
     "metadata": {},
     "output_type": "execute_result"
    }
   ],
   "source": [
    "full_data = pd.concat([full_data,Sex,Embarked],axis = 1)\n",
    "full_data.head(5)"
   ]
  },
  {
   "cell_type": "code",
   "execution_count": 47,
   "id": "b5e54739",
   "metadata": {},
   "outputs": [
    {
     "data": {
      "text/plain": [
       "(889, 12)"
      ]
     },
     "execution_count": 47,
     "metadata": {},
     "output_type": "execute_result"
    }
   ],
   "source": [
    "full_data.shape"
   ]
  },
  {
   "cell_type": "code",
   "execution_count": 49,
   "id": "b6f123b7",
   "metadata": {},
   "outputs": [
    {
     "data": {
      "text/html": [
       "<div>\n",
       "<style scoped>\n",
       "    .dataframe tbody tr th:only-of-type {\n",
       "        vertical-align: middle;\n",
       "    }\n",
       "\n",
       "    .dataframe tbody tr th {\n",
       "        vertical-align: top;\n",
       "    }\n",
       "\n",
       "    .dataframe thead th {\n",
       "        text-align: right;\n",
       "    }\n",
       "</style>\n",
       "<table border=\"1\" class=\"dataframe\">\n",
       "  <thead>\n",
       "    <tr style=\"text-align: right;\">\n",
       "      <th></th>\n",
       "      <th>Survived</th>\n",
       "      <th>Pclass</th>\n",
       "      <th>Age</th>\n",
       "      <th>SibSp</th>\n",
       "      <th>Parch</th>\n",
       "      <th>Fare</th>\n",
       "      <th>male</th>\n",
       "      <th>Q</th>\n",
       "      <th>S</th>\n",
       "      <th>male</th>\n",
       "      <th>Q</th>\n",
       "      <th>S</th>\n",
       "    </tr>\n",
       "  </thead>\n",
       "  <tbody>\n",
       "    <tr>\n",
       "      <th>0</th>\n",
       "      <td>0</td>\n",
       "      <td>3</td>\n",
       "      <td>22.0</td>\n",
       "      <td>1</td>\n",
       "      <td>0</td>\n",
       "      <td>7.2500</td>\n",
       "      <td>1</td>\n",
       "      <td>0</td>\n",
       "      <td>1</td>\n",
       "      <td>1</td>\n",
       "      <td>0</td>\n",
       "      <td>1</td>\n",
       "    </tr>\n",
       "    <tr>\n",
       "      <th>1</th>\n",
       "      <td>1</td>\n",
       "      <td>1</td>\n",
       "      <td>38.0</td>\n",
       "      <td>1</td>\n",
       "      <td>0</td>\n",
       "      <td>71.2833</td>\n",
       "      <td>0</td>\n",
       "      <td>0</td>\n",
       "      <td>0</td>\n",
       "      <td>0</td>\n",
       "      <td>0</td>\n",
       "      <td>0</td>\n",
       "    </tr>\n",
       "    <tr>\n",
       "      <th>2</th>\n",
       "      <td>1</td>\n",
       "      <td>3</td>\n",
       "      <td>26.0</td>\n",
       "      <td>0</td>\n",
       "      <td>0</td>\n",
       "      <td>7.9250</td>\n",
       "      <td>0</td>\n",
       "      <td>0</td>\n",
       "      <td>1</td>\n",
       "      <td>0</td>\n",
       "      <td>0</td>\n",
       "      <td>1</td>\n",
       "    </tr>\n",
       "    <tr>\n",
       "      <th>3</th>\n",
       "      <td>1</td>\n",
       "      <td>1</td>\n",
       "      <td>35.0</td>\n",
       "      <td>1</td>\n",
       "      <td>0</td>\n",
       "      <td>53.1000</td>\n",
       "      <td>0</td>\n",
       "      <td>0</td>\n",
       "      <td>1</td>\n",
       "      <td>0</td>\n",
       "      <td>0</td>\n",
       "      <td>1</td>\n",
       "    </tr>\n",
       "    <tr>\n",
       "      <th>4</th>\n",
       "      <td>0</td>\n",
       "      <td>3</td>\n",
       "      <td>35.0</td>\n",
       "      <td>0</td>\n",
       "      <td>0</td>\n",
       "      <td>8.0500</td>\n",
       "      <td>1</td>\n",
       "      <td>0</td>\n",
       "      <td>1</td>\n",
       "      <td>1</td>\n",
       "      <td>0</td>\n",
       "      <td>1</td>\n",
       "    </tr>\n",
       "  </tbody>\n",
       "</table>\n",
       "</div>"
      ],
      "text/plain": [
       "   Survived  Pclass   Age  SibSp  Parch     Fare  male  Q  S  male  Q  S\n",
       "0         0       3  22.0      1      0   7.2500     1  0  1     1  0  1\n",
       "1         1       1  38.0      1      0  71.2833     0  0  0     0  0  0\n",
       "2         1       3  26.0      0      0   7.9250     0  0  1     0  0  1\n",
       "3         1       1  35.0      1      0  53.1000     0  0  1     0  0  1\n",
       "4         0       3  35.0      0      0   8.0500     1  0  1     1  0  1"
      ]
     },
     "execution_count": 49,
     "metadata": {},
     "output_type": "execute_result"
    }
   ],
   "source": [
    "full_data.head(5)"
   ]
  },
  {
   "cell_type": "code",
   "execution_count": 51,
   "id": "0a92438e",
   "metadata": {},
   "outputs": [],
   "source": [
    "x = full_data.drop('Survived' , axis = 1)\n",
    "y = full_data['Survived']"
   ]
  },
  {
   "cell_type": "code",
   "execution_count": 52,
   "id": "703f4c13",
   "metadata": {},
   "outputs": [],
   "source": [
    "from sklearn.model_selection import train_test_split\n",
    "x_train,x_test,y_train,y_test = train_test_split(x,y,test_size=.20,random_state = 102)"
   ]
  },
  {
   "cell_type": "code",
   "execution_count": 53,
   "id": "848b6c9a",
   "metadata": {},
   "outputs": [
    {
     "data": {
      "text/plain": [
       "(711, 11)"
      ]
     },
     "execution_count": 53,
     "metadata": {},
     "output_type": "execute_result"
    }
   ],
   "source": [
    "x_train.shape"
   ]
  },
  {
   "cell_type": "code",
   "execution_count": 54,
   "id": "170031fd",
   "metadata": {},
   "outputs": [
    {
     "data": {
      "text/plain": [
       "(178,)"
      ]
     },
     "execution_count": 54,
     "metadata": {},
     "output_type": "execute_result"
    }
   ],
   "source": [
    "y_test.shape"
   ]
  },
  {
   "cell_type": "code",
   "execution_count": 56,
   "id": "d6d67fa1",
   "metadata": {},
   "outputs": [
    {
     "data": {
      "text/html": [
       "<div>\n",
       "<style scoped>\n",
       "    .dataframe tbody tr th:only-of-type {\n",
       "        vertical-align: middle;\n",
       "    }\n",
       "\n",
       "    .dataframe tbody tr th {\n",
       "        vertical-align: top;\n",
       "    }\n",
       "\n",
       "    .dataframe thead th {\n",
       "        text-align: right;\n",
       "    }\n",
       "</style>\n",
       "<table border=\"1\" class=\"dataframe\">\n",
       "  <thead>\n",
       "    <tr style=\"text-align: right;\">\n",
       "      <th></th>\n",
       "      <th>Pclass</th>\n",
       "      <th>Age</th>\n",
       "      <th>SibSp</th>\n",
       "      <th>Parch</th>\n",
       "      <th>Fare</th>\n",
       "      <th>male</th>\n",
       "      <th>Q</th>\n",
       "      <th>S</th>\n",
       "      <th>male</th>\n",
       "      <th>Q</th>\n",
       "      <th>S</th>\n",
       "    </tr>\n",
       "  </thead>\n",
       "  <tbody>\n",
       "    <tr>\n",
       "      <th>284</th>\n",
       "      <td>1</td>\n",
       "      <td>37.00</td>\n",
       "      <td>0</td>\n",
       "      <td>0</td>\n",
       "      <td>26.0000</td>\n",
       "      <td>1</td>\n",
       "      <td>0</td>\n",
       "      <td>1</td>\n",
       "      <td>1</td>\n",
       "      <td>0</td>\n",
       "      <td>1</td>\n",
       "    </tr>\n",
       "    <tr>\n",
       "      <th>803</th>\n",
       "      <td>3</td>\n",
       "      <td>0.42</td>\n",
       "      <td>0</td>\n",
       "      <td>1</td>\n",
       "      <td>8.5167</td>\n",
       "      <td>1</td>\n",
       "      <td>0</td>\n",
       "      <td>0</td>\n",
       "      <td>1</td>\n",
       "      <td>0</td>\n",
       "      <td>0</td>\n",
       "    </tr>\n",
       "    <tr>\n",
       "      <th>470</th>\n",
       "      <td>3</td>\n",
       "      <td>24.00</td>\n",
       "      <td>0</td>\n",
       "      <td>0</td>\n",
       "      <td>7.2500</td>\n",
       "      <td>1</td>\n",
       "      <td>0</td>\n",
       "      <td>1</td>\n",
       "      <td>1</td>\n",
       "      <td>0</td>\n",
       "      <td>1</td>\n",
       "    </tr>\n",
       "    <tr>\n",
       "      <th>560</th>\n",
       "      <td>3</td>\n",
       "      <td>24.00</td>\n",
       "      <td>0</td>\n",
       "      <td>0</td>\n",
       "      <td>7.7500</td>\n",
       "      <td>1</td>\n",
       "      <td>1</td>\n",
       "      <td>0</td>\n",
       "      <td>1</td>\n",
       "      <td>1</td>\n",
       "      <td>0</td>\n",
       "    </tr>\n",
       "    <tr>\n",
       "      <th>322</th>\n",
       "      <td>2</td>\n",
       "      <td>30.00</td>\n",
       "      <td>0</td>\n",
       "      <td>0</td>\n",
       "      <td>12.3500</td>\n",
       "      <td>0</td>\n",
       "      <td>1</td>\n",
       "      <td>0</td>\n",
       "      <td>0</td>\n",
       "      <td>1</td>\n",
       "      <td>0</td>\n",
       "    </tr>\n",
       "    <tr>\n",
       "      <th>...</th>\n",
       "      <td>...</td>\n",
       "      <td>...</td>\n",
       "      <td>...</td>\n",
       "      <td>...</td>\n",
       "      <td>...</td>\n",
       "      <td>...</td>\n",
       "      <td>...</td>\n",
       "      <td>...</td>\n",
       "      <td>...</td>\n",
       "      <td>...</td>\n",
       "      <td>...</td>\n",
       "    </tr>\n",
       "    <tr>\n",
       "      <th>627</th>\n",
       "      <td>1</td>\n",
       "      <td>21.00</td>\n",
       "      <td>0</td>\n",
       "      <td>0</td>\n",
       "      <td>77.9583</td>\n",
       "      <td>0</td>\n",
       "      <td>0</td>\n",
       "      <td>1</td>\n",
       "      <td>0</td>\n",
       "      <td>0</td>\n",
       "      <td>1</td>\n",
       "    </tr>\n",
       "    <tr>\n",
       "      <th>243</th>\n",
       "      <td>3</td>\n",
       "      <td>22.00</td>\n",
       "      <td>0</td>\n",
       "      <td>0</td>\n",
       "      <td>7.1250</td>\n",
       "      <td>1</td>\n",
       "      <td>0</td>\n",
       "      <td>1</td>\n",
       "      <td>1</td>\n",
       "      <td>0</td>\n",
       "      <td>1</td>\n",
       "    </tr>\n",
       "    <tr>\n",
       "      <th>591</th>\n",
       "      <td>1</td>\n",
       "      <td>52.00</td>\n",
       "      <td>1</td>\n",
       "      <td>0</td>\n",
       "      <td>78.2667</td>\n",
       "      <td>0</td>\n",
       "      <td>0</td>\n",
       "      <td>0</td>\n",
       "      <td>0</td>\n",
       "      <td>0</td>\n",
       "      <td>0</td>\n",
       "    </tr>\n",
       "    <tr>\n",
       "      <th>756</th>\n",
       "      <td>3</td>\n",
       "      <td>28.00</td>\n",
       "      <td>0</td>\n",
       "      <td>0</td>\n",
       "      <td>7.7958</td>\n",
       "      <td>1</td>\n",
       "      <td>0</td>\n",
       "      <td>1</td>\n",
       "      <td>1</td>\n",
       "      <td>0</td>\n",
       "      <td>1</td>\n",
       "    </tr>\n",
       "    <tr>\n",
       "      <th>257</th>\n",
       "      <td>1</td>\n",
       "      <td>30.00</td>\n",
       "      <td>0</td>\n",
       "      <td>0</td>\n",
       "      <td>86.5000</td>\n",
       "      <td>0</td>\n",
       "      <td>0</td>\n",
       "      <td>1</td>\n",
       "      <td>0</td>\n",
       "      <td>0</td>\n",
       "      <td>1</td>\n",
       "    </tr>\n",
       "  </tbody>\n",
       "</table>\n",
       "<p>711 rows × 11 columns</p>\n",
       "</div>"
      ],
      "text/plain": [
       "     Pclass    Age  SibSp  Parch     Fare  male  Q  S  male  Q  S\n",
       "284       1  37.00      0      0  26.0000     1  0  1     1  0  1\n",
       "803       3   0.42      0      1   8.5167     1  0  0     1  0  0\n",
       "470       3  24.00      0      0   7.2500     1  0  1     1  0  1\n",
       "560       3  24.00      0      0   7.7500     1  1  0     1  1  0\n",
       "322       2  30.00      0      0  12.3500     0  1  0     0  1  0\n",
       "..      ...    ...    ...    ...      ...   ... .. ..   ... .. ..\n",
       "627       1  21.00      0      0  77.9583     0  0  1     0  0  1\n",
       "243       3  22.00      0      0   7.1250     1  0  1     1  0  1\n",
       "591       1  52.00      1      0  78.2667     0  0  0     0  0  0\n",
       "756       3  28.00      0      0   7.7958     1  0  1     1  0  1\n",
       "257       1  30.00      0      0  86.5000     0  0  1     0  0  1\n",
       "\n",
       "[711 rows x 11 columns]"
      ]
     },
     "execution_count": 56,
     "metadata": {},
     "output_type": "execute_result"
    }
   ],
   "source": [
    "x_train"
   ]
  },
  {
   "cell_type": "code",
   "execution_count": 58,
   "id": "a87bc792",
   "metadata": {},
   "outputs": [],
   "source": [
    "from sklearn.linear_model import LogisticRegression"
   ]
  },
  {
   "cell_type": "code",
   "execution_count": 59,
   "id": "ad0fb306",
   "metadata": {},
   "outputs": [
    {
     "data": {
      "text/html": [
       "<style>#sk-container-id-1 {color: black;background-color: white;}#sk-container-id-1 pre{padding: 0;}#sk-container-id-1 div.sk-toggleable {background-color: white;}#sk-container-id-1 label.sk-toggleable__label {cursor: pointer;display: block;width: 100%;margin-bottom: 0;padding: 0.3em;box-sizing: border-box;text-align: center;}#sk-container-id-1 label.sk-toggleable__label-arrow:before {content: \"▸\";float: left;margin-right: 0.25em;color: #696969;}#sk-container-id-1 label.sk-toggleable__label-arrow:hover:before {color: black;}#sk-container-id-1 div.sk-estimator:hover label.sk-toggleable__label-arrow:before {color: black;}#sk-container-id-1 div.sk-toggleable__content {max-height: 0;max-width: 0;overflow: hidden;text-align: left;background-color: #f0f8ff;}#sk-container-id-1 div.sk-toggleable__content pre {margin: 0.2em;color: black;border-radius: 0.25em;background-color: #f0f8ff;}#sk-container-id-1 input.sk-toggleable__control:checked~div.sk-toggleable__content {max-height: 200px;max-width: 100%;overflow: auto;}#sk-container-id-1 input.sk-toggleable__control:checked~label.sk-toggleable__label-arrow:before {content: \"▾\";}#sk-container-id-1 div.sk-estimator input.sk-toggleable__control:checked~label.sk-toggleable__label {background-color: #d4ebff;}#sk-container-id-1 div.sk-label input.sk-toggleable__control:checked~label.sk-toggleable__label {background-color: #d4ebff;}#sk-container-id-1 input.sk-hidden--visually {border: 0;clip: rect(1px 1px 1px 1px);clip: rect(1px, 1px, 1px, 1px);height: 1px;margin: -1px;overflow: hidden;padding: 0;position: absolute;width: 1px;}#sk-container-id-1 div.sk-estimator {font-family: monospace;background-color: #f0f8ff;border: 1px dotted black;border-radius: 0.25em;box-sizing: border-box;margin-bottom: 0.5em;}#sk-container-id-1 div.sk-estimator:hover {background-color: #d4ebff;}#sk-container-id-1 div.sk-parallel-item::after {content: \"\";width: 100%;border-bottom: 1px solid gray;flex-grow: 1;}#sk-container-id-1 div.sk-label:hover label.sk-toggleable__label {background-color: #d4ebff;}#sk-container-id-1 div.sk-serial::before {content: \"\";position: absolute;border-left: 1px solid gray;box-sizing: border-box;top: 0;bottom: 0;left: 50%;z-index: 0;}#sk-container-id-1 div.sk-serial {display: flex;flex-direction: column;align-items: center;background-color: white;padding-right: 0.2em;padding-left: 0.2em;position: relative;}#sk-container-id-1 div.sk-item {position: relative;z-index: 1;}#sk-container-id-1 div.sk-parallel {display: flex;align-items: stretch;justify-content: center;background-color: white;position: relative;}#sk-container-id-1 div.sk-item::before, #sk-container-id-1 div.sk-parallel-item::before {content: \"\";position: absolute;border-left: 1px solid gray;box-sizing: border-box;top: 0;bottom: 0;left: 50%;z-index: -1;}#sk-container-id-1 div.sk-parallel-item {display: flex;flex-direction: column;z-index: 1;position: relative;background-color: white;}#sk-container-id-1 div.sk-parallel-item:first-child::after {align-self: flex-end;width: 50%;}#sk-container-id-1 div.sk-parallel-item:last-child::after {align-self: flex-start;width: 50%;}#sk-container-id-1 div.sk-parallel-item:only-child::after {width: 0;}#sk-container-id-1 div.sk-dashed-wrapped {border: 1px dashed gray;margin: 0 0.4em 0.5em 0.4em;box-sizing: border-box;padding-bottom: 0.4em;background-color: white;}#sk-container-id-1 div.sk-label label {font-family: monospace;font-weight: bold;display: inline-block;line-height: 1.2em;}#sk-container-id-1 div.sk-label-container {text-align: center;}#sk-container-id-1 div.sk-container {/* jupyter's `normalize.less` sets `[hidden] { display: none; }` but bootstrap.min.css set `[hidden] { display: none !important; }` so we also need the `!important` here to be able to override the default hidden behavior on the sphinx rendered scikit-learn.org. See: https://github.com/scikit-learn/scikit-learn/issues/21755 */display: inline-block !important;position: relative;}#sk-container-id-1 div.sk-text-repr-fallback {display: none;}</style><div id=\"sk-container-id-1\" class=\"sk-top-container\"><div class=\"sk-text-repr-fallback\"><pre>LogisticRegression()</pre><b>In a Jupyter environment, please rerun this cell to show the HTML representation or trust the notebook. <br />On GitHub, the HTML representation is unable to render, please try loading this page with nbviewer.org.</b></div><div class=\"sk-container\" hidden><div class=\"sk-item\"><div class=\"sk-estimator sk-toggleable\"><input class=\"sk-toggleable__control sk-hidden--visually\" id=\"sk-estimator-id-1\" type=\"checkbox\" checked><label for=\"sk-estimator-id-1\" class=\"sk-toggleable__label sk-toggleable__label-arrow\">LogisticRegression</label><div class=\"sk-toggleable__content\"><pre>LogisticRegression()</pre></div></div></div></div></div>"
      ],
      "text/plain": [
       "LogisticRegression()"
      ]
     },
     "execution_count": 59,
     "metadata": {},
     "output_type": "execute_result"
    }
   ],
   "source": [
    "lreg = LogisticRegression()\n",
    "lreg.fit(x_train,y_train)"
   ]
  },
  {
   "cell_type": "code",
   "execution_count": 60,
   "id": "8f23d843",
   "metadata": {},
   "outputs": [
    {
     "name": "stdout",
     "output_type": "stream",
     "text": [
      "[0 0 0 0 0 0 1 0 0 0 0 0 1 0 0 1 0 1 0 0 0 0 1 0 1 0 0 0 0 0 0 0 1 0 0 1 0\n",
      " 0 1 0 0 0 1 1 1 0 0 1 0 0 1 1 1 0 0 1 1 1 0 0 1 1 0 0 0 0 0 0 0 0 0 0 0 0\n",
      " 0 1 0 0 0 0 0 1 0 0 1 0 0 1 0 0 1 0 0 0 1 0 0 1 1 0 1 1 0 1 1 0 0 1 0 1 1\n",
      " 1 0 0 0 0 0 1 1 1 0 1 1 0 0 1 0 0 1 0 1 0 1 0 1 0 0 0 0 0 0 0 0 0 0 1 0 1\n",
      " 0 1 0 0 1 0 0 0 1 0 0 0 1 0 1 0 1 0 1 0 0 1 0 1 1 1 1 0 0 0]\n"
     ]
    },
    {
     "data": {
      "text/plain": [
       "(178,)"
      ]
     },
     "execution_count": 60,
     "metadata": {},
     "output_type": "execute_result"
    }
   ],
   "source": [
    "y_predict = lreg.predict(x_test)\n",
    "print(y_predict)\n",
    "y_predict.shape"
   ]
  },
  {
   "cell_type": "code",
   "execution_count": 65,
   "id": "53a8796f",
   "metadata": {},
   "outputs": [
    {
     "name": "stdout",
     "output_type": "stream",
     "text": [
      "[0.1920024  0.18974491 0.07680425 0.07672696 0.11550689 0.04016898\n",
      " 0.56122052 0.30453683 0.395935   0.07990498 0.3130012  0.44256284\n",
      " 0.75913744 0.34269903 0.15256491 0.92749179 0.11105724 0.94558372\n",
      " 0.11770122 0.09340584 0.07380269 0.16134417 0.69532845 0.17025202\n",
      " 0.73878857 0.06035573 0.26847436 0.11768754 0.16724029 0.25069817\n",
      " 0.10495727 0.34208515 0.66597374 0.3344906  0.26105376 0.61433742\n",
      " 0.04730114 0.14227017 0.80595554 0.0399756  0.4704353  0.16018678\n",
      " 0.84831613 0.61158664 0.87887017 0.14928196 0.20732976 0.60721251\n",
      " 0.13663392 0.44306518 0.71648858 0.50609631 0.78089652 0.21280835\n",
      " 0.10756566 0.81286627 0.72180494 0.90254707 0.44306518 0.04383359\n",
      " 0.56958158 0.66387201 0.11432897 0.1591564  0.437976   0.1132875\n",
      " 0.37862771 0.24533347 0.44055471 0.42662859 0.11766206 0.39346627\n",
      " 0.06320693 0.11771868 0.13254231 0.68109315 0.13181933 0.12283117\n",
      " 0.08989256 0.33886938 0.14277061 0.86532334 0.08987918 0.46559495\n",
      " 0.81541864 0.09099987 0.23697674 0.68866394 0.12222956 0.18091796\n",
      " 0.53925924 0.12014376 0.15850413 0.15278182 0.50540252 0.33888697\n",
      " 0.07846105 0.67954639 0.5983154  0.30981131 0.72690926 0.5038945\n",
      " 0.12984047 0.89912763 0.53335057 0.1583345  0.10403366 0.51252779\n",
      " 0.12683909 0.76702748 0.60945829 0.94229353 0.45465223 0.15905305\n",
      " 0.22929981 0.15893639 0.14084621 0.72550025 0.61148537 0.58340452\n",
      " 0.12683909 0.50552629 0.58192556 0.14189141 0.1199574  0.89027822\n",
      " 0.24533347 0.09445627 0.79944961 0.11760546 0.64729396 0.38185909\n",
      " 0.7071427  0.11311825 0.78532508 0.08518917 0.11331443 0.13225281\n",
      " 0.04015636 0.44425759 0.15905062 0.35243639 0.22213358 0.12691711\n",
      " 0.13277913 0.71648858 0.13699399 0.65000626 0.16834115 0.87602215\n",
      " 0.05805745 0.1287784  0.52432036 0.11827881 0.45493849 0.14718432\n",
      " 0.9657892  0.16510842 0.08463095 0.0586179  0.63063571 0.39612162\n",
      " 0.56857444 0.15829454 0.58304968 0.12285791 0.86021205 0.48419271\n",
      " 0.11788302 0.79227716 0.05583237 0.66111635 0.80315066 0.76327476\n",
      " 0.77949996 0.09361383 0.06819571 0.08644067]\n"
     ]
    }
   ],
   "source": [
    "prob = lreg.predict_proba(x_test)[:,1]\n",
    "print(prob)"
   ]
  },
  {
   "cell_type": "code",
   "execution_count": 69,
   "id": "de7946ad",
   "metadata": {},
   "outputs": [
    {
     "name": "stdout",
     "output_type": "stream",
     "text": [
      "probabilitees : 0.1920023959893458 and y predict = 0\n",
      "probabilitees : 0.1897449093320685 and y predict = 0\n",
      "probabilitees : 0.07680424692499527 and y predict = 0\n",
      "probabilitees : 0.07672695652911188 and y predict = 0\n",
      "probabilitees : 0.11550689372773823 and y predict = 0\n",
      "probabilitees : 0.04016897672636481 and y predict = 0\n",
      "probabilitees : 0.5612205184097513 and y predict = 1\n",
      "probabilitees : 0.30453682547338384 and y predict = 0\n",
      "probabilitees : 0.39593500145073407 and y predict = 0\n",
      "probabilitees : 0.07990497761812612 and y predict = 0\n",
      "probabilitees : 0.3130011983226569 and y predict = 0\n",
      "probabilitees : 0.442562836306855 and y predict = 0\n",
      "probabilitees : 0.7591374442101531 and y predict = 1\n",
      "probabilitees : 0.34269902579076766 and y predict = 0\n",
      "probabilitees : 0.15256491190854893 and y predict = 0\n",
      "probabilitees : 0.9274917930127012 and y predict = 1\n",
      "probabilitees : 0.11105723778188882 and y predict = 0\n",
      "probabilitees : 0.9455837187613572 and y predict = 1\n",
      "probabilitees : 0.11770121810978808 and y predict = 0\n",
      "probabilitees : 0.09340584108189763 and y predict = 0\n",
      "probabilitees : 0.07380269203371885 and y predict = 0\n",
      "probabilitees : 0.16134416947064806 and y predict = 0\n",
      "probabilitees : 0.6953284490470759 and y predict = 1\n",
      "probabilitees : 0.1702520194706707 and y predict = 0\n",
      "probabilitees : 0.7387885692775045 and y predict = 1\n",
      "probabilitees : 0.06035573076585361 and y predict = 0\n",
      "probabilitees : 0.26847436353037496 and y predict = 0\n",
      "probabilitees : 0.11768753803005651 and y predict = 0\n",
      "probabilitees : 0.16724029110374192 and y predict = 0\n",
      "probabilitees : 0.2506981652320309 and y predict = 0\n",
      "probabilitees : 0.10495727258153159 and y predict = 0\n",
      "probabilitees : 0.3420851541046319 and y predict = 0\n",
      "probabilitees : 0.6659737413319481 and y predict = 1\n",
      "probabilitees : 0.33449060438964573 and y predict = 0\n",
      "probabilitees : 0.26105375551031057 and y predict = 0\n",
      "probabilitees : 0.614337420984597 and y predict = 1\n",
      "probabilitees : 0.0473011388874455 and y predict = 0\n",
      "probabilitees : 0.14227017284612173 and y predict = 0\n",
      "probabilitees : 0.805955537035436 and y predict = 1\n",
      "probabilitees : 0.03997559925247215 and y predict = 0\n",
      "probabilitees : 0.47043530473772893 and y predict = 0\n",
      "probabilitees : 0.1601867824756502 and y predict = 0\n",
      "probabilitees : 0.8483161330714336 and y predict = 1\n",
      "probabilitees : 0.6115866425373524 and y predict = 1\n",
      "probabilitees : 0.8788701749218559 and y predict = 1\n",
      "probabilitees : 0.14928196164141688 and y predict = 0\n",
      "probabilitees : 0.207329759005001 and y predict = 0\n",
      "probabilitees : 0.6072125087399372 and y predict = 1\n",
      "probabilitees : 0.1366339215019236 and y predict = 0\n",
      "probabilitees : 0.44306517874353335 and y predict = 0\n",
      "probabilitees : 0.7164885760950799 and y predict = 1\n",
      "probabilitees : 0.5060963125584034 and y predict = 1\n",
      "probabilitees : 0.7808965205144619 and y predict = 1\n",
      "probabilitees : 0.21280835345544016 and y predict = 0\n",
      "probabilitees : 0.10756565874669875 and y predict = 0\n",
      "probabilitees : 0.8128662671575274 and y predict = 1\n",
      "probabilitees : 0.7218049379823441 and y predict = 1\n",
      "probabilitees : 0.9025470706290233 and y predict = 1\n",
      "probabilitees : 0.44306517874353335 and y predict = 0\n",
      "probabilitees : 0.04383359431163162 and y predict = 0\n",
      "probabilitees : 0.5695815824362677 and y predict = 1\n",
      "probabilitees : 0.6638720060015441 and y predict = 1\n",
      "probabilitees : 0.11432896784385446 and y predict = 0\n",
      "probabilitees : 0.15915639666591017 and y predict = 0\n",
      "probabilitees : 0.43797600323571406 and y predict = 0\n",
      "probabilitees : 0.11328749623795101 and y predict = 0\n",
      "probabilitees : 0.37862771171240694 and y predict = 0\n",
      "probabilitees : 0.24533347362193525 and y predict = 0\n",
      "probabilitees : 0.44055470708712224 and y predict = 0\n",
      "probabilitees : 0.4266285851165058 and y predict = 0\n",
      "probabilitees : 0.11766206142246875 and y predict = 0\n",
      "probabilitees : 0.3934662739351422 and y predict = 0\n",
      "probabilitees : 0.06320693229917981 and y predict = 0\n",
      "probabilitees : 0.11771868259789658 and y predict = 0\n",
      "probabilitees : 0.13254230907775325 and y predict = 0\n",
      "probabilitees : 0.6810931548014878 and y predict = 1\n",
      "probabilitees : 0.131819332266595 and y predict = 0\n",
      "probabilitees : 0.12283116985899432 and y predict = 0\n",
      "probabilitees : 0.08989256254822064 and y predict = 0\n",
      "probabilitees : 0.33886938421701085 and y predict = 0\n",
      "probabilitees : 0.14277060538361963 and y predict = 0\n",
      "probabilitees : 0.865323336078796 and y predict = 1\n",
      "probabilitees : 0.08987918041102393 and y predict = 0\n",
      "probabilitees : 0.4655949492260024 and y predict = 0\n",
      "probabilitees : 0.8154186394797096 and y predict = 1\n",
      "probabilitees : 0.09099986536111675 and y predict = 0\n",
      "probabilitees : 0.23697674346065806 and y predict = 0\n",
      "probabilitees : 0.688663941817464 and y predict = 1\n",
      "probabilitees : 0.12222955848123933 and y predict = 0\n",
      "probabilitees : 0.18091796019294681 and y predict = 0\n",
      "probabilitees : 0.5392592426755345 and y predict = 1\n",
      "probabilitees : 0.12014375599824714 and y predict = 0\n",
      "probabilitees : 0.15850413495270904 and y predict = 0\n",
      "probabilitees : 0.1527818201885799 and y predict = 0\n",
      "probabilitees : 0.5054025168142924 and y predict = 1\n",
      "probabilitees : 0.3388869668845325 and y predict = 0\n",
      "probabilitees : 0.07846105010154092 and y predict = 0\n",
      "probabilitees : 0.6795463867476506 and y predict = 1\n",
      "probabilitees : 0.5983153955399384 and y predict = 1\n",
      "probabilitees : 0.30981131118672733 and y predict = 0\n",
      "probabilitees : 0.7269092578991762 and y predict = 1\n",
      "probabilitees : 0.5038944999123783 and y predict = 1\n",
      "probabilitees : 0.12984046972843594 and y predict = 0\n",
      "probabilitees : 0.8991276264129675 and y predict = 1\n",
      "probabilitees : 0.5333505668914449 and y predict = 1\n",
      "probabilitees : 0.1583345020900823 and y predict = 0\n",
      "probabilitees : 0.10403365600786246 and y predict = 0\n",
      "probabilitees : 0.5125277921917889 and y predict = 1\n",
      "probabilitees : 0.12683909303172325 and y predict = 0\n",
      "probabilitees : 0.7670274838484199 and y predict = 1\n",
      "probabilitees : 0.6094582887970479 and y predict = 1\n",
      "probabilitees : 0.9422935261050871 and y predict = 1\n",
      "probabilitees : 0.45465222792745164 and y predict = 0\n",
      "probabilitees : 0.15905305174279782 and y predict = 0\n",
      "probabilitees : 0.2292998129849264 and y predict = 0\n",
      "probabilitees : 0.15893639272113466 and y predict = 0\n",
      "probabilitees : 0.14084620508237877 and y predict = 0\n",
      "probabilitees : 0.7255002464125886 and y predict = 1\n",
      "probabilitees : 0.6114853714388571 and y predict = 1\n",
      "probabilitees : 0.5834045200742511 and y predict = 1\n",
      "probabilitees : 0.12683909303172325 and y predict = 0\n",
      "probabilitees : 0.5055262877175661 and y predict = 1\n",
      "probabilitees : 0.581925558656365 and y predict = 1\n",
      "probabilitees : 0.14189141042169917 and y predict = 0\n",
      "probabilitees : 0.11995739965753041 and y predict = 0\n",
      "probabilitees : 0.8902782238126443 and y predict = 1\n",
      "probabilitees : 0.24533347362193525 and y predict = 0\n",
      "probabilitees : 0.0944562695877009 and y predict = 0\n",
      "probabilitees : 0.7994496118379469 and y predict = 1\n",
      "probabilitees : 0.11760546385088073 and y predict = 0\n",
      "probabilitees : 0.647293957420964 and y predict = 1\n",
      "probabilitees : 0.38185909480598307 and y predict = 0\n",
      "probabilitees : 0.7071427002324598 and y predict = 1\n",
      "probabilitees : 0.11311824574255909 and y predict = 0\n",
      "probabilitees : 0.7853250800589273 and y predict = 1\n",
      "probabilitees : 0.08518917150755143 and y predict = 0\n",
      "probabilitees : 0.11331442637967537 and y predict = 0\n",
      "probabilitees : 0.13225280959831587 and y predict = 0\n",
      "probabilitees : 0.040156364597444434 and y predict = 0\n",
      "probabilitees : 0.4442575872611855 and y predict = 0\n",
      "probabilitees : 0.1590506157763085 and y predict = 0\n",
      "probabilitees : 0.35243639050307546 and y predict = 0\n",
      "probabilitees : 0.22213358238843584 and y predict = 0\n",
      "probabilitees : 0.12691711313405715 and y predict = 0\n",
      "probabilitees : 0.1327791329336085 and y predict = 0\n",
      "probabilitees : 0.7164885760950799 and y predict = 1\n",
      "probabilitees : 0.1369939920718931 and y predict = 0\n",
      "probabilitees : 0.6500062593965937 and y predict = 1\n",
      "probabilitees : 0.168341146675533 and y predict = 0\n",
      "probabilitees : 0.8760221459852284 and y predict = 1\n",
      "probabilitees : 0.05805744734967688 and y predict = 0\n",
      "probabilitees : 0.12877839530592297 and y predict = 0\n",
      "probabilitees : 0.5243203603177959 and y predict = 1\n",
      "probabilitees : 0.11827881319162495 and y predict = 0\n",
      "probabilitees : 0.454938490945724 and y predict = 0\n",
      "probabilitees : 0.14718431703500476 and y predict = 0\n",
      "probabilitees : 0.9657892006315779 and y predict = 1\n",
      "probabilitees : 0.1651084190985451 and y predict = 0\n",
      "probabilitees : 0.0846309504372384 and y predict = 0\n",
      "probabilitees : 0.05861789513431852 and y predict = 0\n",
      "probabilitees : 0.6306357072054039 and y predict = 1\n",
      "probabilitees : 0.39612162246270494 and y predict = 0\n",
      "probabilitees : 0.5685744416695709 and y predict = 1\n",
      "probabilitees : 0.1582945398147561 and y predict = 0\n",
      "probabilitees : 0.583049677512052 and y predict = 1\n",
      "probabilitees : 0.12285791148760399 and y predict = 0\n",
      "probabilitees : 0.8602120505406323 and y predict = 1\n",
      "probabilitees : 0.4841927051991043 and y predict = 0\n",
      "probabilitees : 0.11788301754496168 and y predict = 0\n",
      "probabilitees : 0.7922771574835514 and y predict = 1\n",
      "probabilitees : 0.055832368242733965 and y predict = 0\n",
      "probabilitees : 0.6611163464247753 and y predict = 1\n",
      "probabilitees : 0.8031506601719265 and y predict = 1\n",
      "probabilitees : 0.7632747577719858 and y predict = 1\n",
      "probabilitees : 0.7794999551746816 and y predict = 1\n",
      "probabilitees : 0.09361383454428118 and y predict = 0\n",
      "probabilitees : 0.06819571489425556 and y predict = 0\n",
      "probabilitees : 0.08644067266499389 and y predict = 0\n"
     ]
    }
   ],
   "source": [
    "for i in range(len(y_test)):\n",
    "    print(f\"probabilitees : {prob[i]} and y predict = {y_predict[i]}\")"
   ]
  },
  {
   "cell_type": "code",
   "execution_count": 71,
   "id": "af25e725",
   "metadata": {},
   "outputs": [
    {
     "name": "stdout",
     "output_type": "stream",
     "text": [
      "Classification Model\n",
      "------------------------------------------------------------\n",
      "Accuracy 78.09 %\n"
     ]
    }
   ],
   "source": [
    "from sklearn.metrics import classification_report, accuracy_score\n",
    "\n",
    "print('Classification Model')\n",
    "# Accuracy\n",
    "print('--'*30)\n",
    "logreg_accuracy = round(accuracy_score(y_test, y_predict) * 100,2)\n",
    "print('Accuracy', logreg_accuracy,'%')"
   ]
  },
  {
   "cell_type": "code",
   "execution_count": null,
   "id": "c5f12624",
   "metadata": {},
   "outputs": [],
   "source": []
  }
 ],
 "metadata": {
  "kernelspec": {
   "display_name": "Python 3 (ipykernel)",
   "language": "python",
   "name": "python3"
  },
  "language_info": {
   "codemirror_mode": {
    "name": "ipython",
    "version": 3
   },
   "file_extension": ".py",
   "mimetype": "text/x-python",
   "name": "python",
   "nbconvert_exporter": "python",
   "pygments_lexer": "ipython3",
   "version": "3.10.9"
  }
 },
 "nbformat": 4,
 "nbformat_minor": 5
}
